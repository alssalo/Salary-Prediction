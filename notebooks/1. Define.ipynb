{
 "cells": [
  {
   "cell_type": "markdown",
   "metadata": {},
   "source": [
    "##                                1.     Define\n",
    "\n",
    "  \n",
    "### 1.a Goals \n",
    "   - ***Predict the salary of a new recruit based on the historical data of existing empolyee.***                                 \n",
    "   - ***Analyze the relation between different features and provide the trends.***                                                 \n",
    "                                                                                                                                \n",
    "### 1.b  Motivation\n",
    "This model can tackle many bussiness cases in real world and can provide bussiness value.  \n",
    "                                                                                                                               \n",
    "   >1) Filter out candidates with different features according to the company's budgets.                                       \n",
    "   >2) Value a talent according to various features in the model and provide satisfying offers.                               \n",
    "   >3) Provide insights on how to value a talent based  on the features in the model.                                         \n",
    "      \n",
    "### 1.c Data Description\n",
    "\n",
    "   #####  1.c.1 Files:\n",
    ">The data will be read in from three CSV files:\n",
    "\n",
    "   1) train_features.csv: Contains the feature data for each record for training the model<br>\n",
    "   2) train_salaries.csv: Contains the target values for each posting for training the model<br>\n",
    "   3) test_features.csv: Contains the feature data for the postings which will be used for final test phase<br>\n",
    "      \n",
    "   #####  1.c.2 Features:\n",
    "   \n",
    " **1) Years Experience**:Years of experience for the particular role.<br>                                                      **2) Job Type**: The position held (CEO, CFO, CTO, Vice President, Manager, Janitor, and senior or junior position)<br>\n",
    " **3) College Degree**: Doctoral, Masters, Bachelors, High School, or None<br>\n",
    " **4) College Major**: Biology, Business, Chemistry, Computer Science, Engineering, Literature, Math, Physics, or None<br>\n",
    " **5) Industry**: Auto, Education, Finance, Health, Oil, Service, or Web<br>\n",
    " **6) Miles From Metropolis**: How many miles away from a major city <br>\n",
    "\n",
    "### 1.d Evalution Metrics\n",
    "   We will be using Mean Squared Error (MSE) metrics to evaluate the model.And the goal of the model is to provide\n",
    "       a score **MSE 360**.       "
   ]
  },
  {
   "cell_type": "markdown",
   "metadata": {},
   "source": [
    "## 1.2 Get Raw Data -------"
   ]
  },
  {
   "cell_type": "code",
   "execution_count": 3,
   "metadata": {},
   "outputs": [
    {
     "name": "stdout",
     "output_type": "stream",
     "text": [
      "C:\\Users\\Jo's\\Documents\\DSDJ\\Portfollio.mod4.5\\S1\n"
     ]
    }
   ],
   "source": [
    "#set path to the root file ,ie Salary Prediction \n",
    "\n",
    "cd C:\\\\Users\\\\Jo's\\\\Documents\\\\DSDJ\\\\Portfollio.mod4.5\\\\SalaryPrediction\\\\"
   ]
  },
  {
   "cell_type": "code",
   "execution_count": 4,
   "metadata": {},
   "outputs": [
    {
     "name": "stdout",
     "output_type": "stream",
     "text": [
      "total 24M\n",
      "-rw-r--r-- 1 Jo's 197121 24M Sep 25 12:06 DSDJ-data-SalaryPredictions.zip\n"
     ]
    }
   ],
   "source": [
    "#loacte the already copied raw data which is in compressed form\n",
    "\n",
    "!ls -lh data/raw_data"
   ]
  },
  {
   "cell_type": "markdown",
   "metadata": {},
   "source": [
    "## 1.3 Manage Data and its path ------"
   ]
  },
  {
   "cell_type": "code",
   "execution_count": 5,
   "metadata": {},
   "outputs": [
    {
     "name": "stderr",
     "output_type": "stream",
     "text": [
      "The syntax of the command is incorrect.\n"
     ]
    },
    {
     "name": "stdout",
     "output_type": "stream",
     "text": [
      "Archive:  data/raw_data/DSDJ-data-SalaryPredictions.zip\n",
      "  inflating: data/unzipped_data/data/test_features.csv  \n",
      "  inflating: data/unzipped_data/data/train_features.csv  \n",
      "  inflating: data/unzipped_data/data/train_salaries.csv  \n"
     ]
    }
   ],
   "source": [
    "# make a directory called unzipped_data, deleting one if it exists\n",
    "!rm -rf data/unzipped_data\n",
    "!mkdir data/unzipped_data\n",
    "\n",
    "# unzip the raw data into a directory called unzipped_data\n",
    "!unzip \"data/raw_data/*.zip\" -d data/unzipped_data"
   ]
  },
  {
   "cell_type": "markdown",
   "metadata": {},
   "source": [
    "## 1.4 Install Dependencies ---------"
   ]
  },
  {
   "cell_type": "code",
   "execution_count": 6,
   "metadata": {},
   "outputs": [
    {
     "name": "stdout",
     "output_type": "stream",
     "text": [
      "Requirement already satisfied: pandas in c:\\programdata\\anaconda3\\lib\\site-packages (0.24.2)\n",
      "Requirement already satisfied: python-dateutil>=2.5.0 in c:\\programdata\\anaconda3\\lib\\site-packages (from pandas) (2.8.0)\n",
      "Requirement already satisfied: numpy>=1.12.0 in c:\\programdata\\anaconda3\\lib\\site-packages (from pandas) (1.16.2)\n",
      "Requirement already satisfied: pytz>=2011k in c:\\programdata\\anaconda3\\lib\\site-packages (from pandas) (2018.9)\n",
      "Requirement already satisfied: six>=1.5 in c:\\programdata\\anaconda3\\lib\\site-packages (from python-dateutil>=2.5.0->pandas) (1.12.0)\n",
      "Requirement already satisfied: xlrd in c:\\programdata\\anaconda3\\lib\\site-packages (1.2.0)\n",
      "Requirement already satisfied: matplotlib in c:\\programdata\\anaconda3\\lib\\site-packages (3.0.3)\n",
      "Requirement already satisfied: numpy>=1.10.0 in c:\\programdata\\anaconda3\\lib\\site-packages (from matplotlib) (1.16.2)\n",
      "Requirement already satisfied: cycler>=0.10 in c:\\programdata\\anaconda3\\lib\\site-packages (from matplotlib) (0.10.0)\n",
      "Requirement already satisfied: kiwisolver>=1.0.1 in c:\\programdata\\anaconda3\\lib\\site-packages (from matplotlib) (1.0.1)\n",
      "Requirement already satisfied: pyparsing!=2.0.4,!=2.1.2,!=2.1.6,>=2.0.1 in c:\\programdata\\anaconda3\\lib\\site-packages (from matplotlib) (2.3.1)\n",
      "Requirement already satisfied: python-dateutil>=2.1 in c:\\programdata\\anaconda3\\lib\\site-packages (from matplotlib) (2.8.0)\n",
      "Requirement already satisfied: six in c:\\programdata\\anaconda3\\lib\\site-packages (from cycler>=0.10->matplotlib) (1.12.0)\n",
      "Requirement already satisfied: setuptools in c:\\programdata\\anaconda3\\lib\\site-packages (from kiwisolver>=1.0.1->matplotlib) (40.8.0)\n",
      "Requirement already satisfied: scikit-learn in c:\\programdata\\anaconda3\\lib\\site-packages (0.20.3)\n",
      "Requirement already satisfied: scipy>=0.13.3 in c:\\programdata\\anaconda3\\lib\\site-packages (from scikit-learn) (1.2.1)\n",
      "Requirement already satisfied: numpy>=1.8.2 in c:\\programdata\\anaconda3\\lib\\site-packages (from scikit-learn) (1.16.2)\n"
     ]
    }
   ],
   "source": [
    "#conda install pandas xlrd matplotlib scikit-learn\n",
    "!pip install pandas\n",
    "!pip install xlrd\n",
    "!pip install matplotlib\n",
    "!pip install scikit-learn"
   ]
  }
 ],
 "metadata": {
  "kernelspec": {
   "display_name": "Python 3",
   "language": "python",
   "name": "python3"
  },
  "language_info": {
   "codemirror_mode": {
    "name": "ipython",
    "version": 3
   },
   "file_extension": ".py",
   "mimetype": "text/x-python",
   "name": "python",
   "nbconvert_exporter": "python",
   "pygments_lexer": "ipython3",
   "version": "3.7.3"
  }
 },
 "nbformat": 4,
 "nbformat_minor": 2
}
