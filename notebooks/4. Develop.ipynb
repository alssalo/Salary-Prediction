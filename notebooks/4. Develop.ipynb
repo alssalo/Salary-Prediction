{
 "cells": [
  {
   "cell_type": "markdown",
   "metadata": {},
   "source": [
    "# 4. DEVEOP\n",
    "In this notebook we will:\n",
    ">**1) We will create a baseline model**<br>\n",
    ">**2) Preprocess Data(if needed)**<br>\n",
    ">**3) Tune the model for optimized results**<br>"
   ]
  },
  {
   "cell_type": "code",
   "execution_count": 26,
   "metadata": {},
   "outputs": [],
   "source": [
    "#import intial packages\n",
    "\n",
    "import numpy as np\n",
    "import pandas as pd\n",
    "import matplotlib.pyplot as plt\n",
    "import seaborn as sns"
   ]
  },
  {
   "cell_type": "code",
   "execution_count": 5,
   "metadata": {},
   "outputs": [
    {
     "name": "stdout",
     "output_type": "stream",
     "text": [
      "C:\\Users\\Jo's\\Documents\\DSDJ\\Portfollio.mod4.5\\S1\n"
     ]
    }
   ],
   "source": [
    "#set the root path\n",
    "\n",
    "cd C:\\Users\\Jo's\\Documents\\DSDJ\\Portfollio.mod4.5\\S1\\"
   ]
  },
  {
   "cell_type": "code",
   "execution_count": 8,
   "metadata": {},
   "outputs": [],
   "source": [
    "### Load data\n",
    "\n",
    "train_final=pd.read_csv(\"data/final_data/cleaned_data.csv\")"
   ]
  },
  {
   "cell_type": "markdown",
   "metadata": {},
   "source": [
    "### 4.1 ------BaseLine Model------"
   ]
  },
  {
   "cell_type": "markdown",
   "metadata": {},
   "source": [
    "#### 4.2.1 -------- Import packages ---------"
   ]
  },
  {
   "cell_type": "code",
   "execution_count": 7,
   "metadata": {},
   "outputs": [],
   "source": [
    "# import model & evaluation packages\n",
    "\n",
    "from sklearn.linear_model import LinearRegression\n",
    "from sklearn.metrics import mean_squared_error\n",
    "from sklearn.model_selection import train_test_split\n",
    "from sklearn.model_selection import cross_val_score\n",
    "from sklearn.model_selection import cross_val_predict\n",
    "import statsmodels.api as sm"
   ]
  },
  {
   "cell_type": "markdown",
   "metadata": {},
   "source": [
    "#### 4.2.2  ------- Prepare Data for model --------"
   ]
  },
  {
   "cell_type": "code",
   "execution_count": 9,
   "metadata": {},
   "outputs": [
    {
     "data": {
      "text/html": [
       "<div>\n",
       "<style scoped>\n",
       "    .dataframe tbody tr th:only-of-type {\n",
       "        vertical-align: middle;\n",
       "    }\n",
       "\n",
       "    .dataframe tbody tr th {\n",
       "        vertical-align: top;\n",
       "    }\n",
       "\n",
       "    .dataframe thead th {\n",
       "        text-align: right;\n",
       "    }\n",
       "</style>\n",
       "<table border=\"1\" class=\"dataframe\">\n",
       "  <thead>\n",
       "    <tr style=\"text-align: right;\">\n",
       "      <th></th>\n",
       "      <th>jobType</th>\n",
       "      <th>degree</th>\n",
       "      <th>major</th>\n",
       "      <th>industry</th>\n",
       "      <th>yearsExperience</th>\n",
       "      <th>milesFromMetropolis</th>\n",
       "      <th>salary</th>\n",
       "      <th>Attended_College</th>\n",
       "      <th>cat_feat_mean</th>\n",
       "      <th>exp_dist_mean</th>\n",
       "      <th>dist_job_mean</th>\n",
       "    </tr>\n",
       "  </thead>\n",
       "  <tbody>\n",
       "    <tr>\n",
       "      <th>0</th>\n",
       "      <td>CFO</td>\n",
       "      <td>MASTERS</td>\n",
       "      <td>MATH</td>\n",
       "      <td>HEALTH</td>\n",
       "      <td>10</td>\n",
       "      <td>83</td>\n",
       "      <td>130</td>\n",
       "      <td>Yes</td>\n",
       "      <td>141.246753</td>\n",
       "      <td>98.397741</td>\n",
       "      <td>124.448359</td>\n",
       "    </tr>\n",
       "    <tr>\n",
       "      <th>1</th>\n",
       "      <td>CEO</td>\n",
       "      <td>HIGH_SCHOOL</td>\n",
       "      <td>NONE</td>\n",
       "      <td>WEB</td>\n",
       "      <td>3</td>\n",
       "      <td>73</td>\n",
       "      <td>101</td>\n",
       "      <td>No</td>\n",
       "      <td>140.051566</td>\n",
       "      <td>92.133040</td>\n",
       "      <td>128.446613</td>\n",
       "    </tr>\n",
       "    <tr>\n",
       "      <th>2</th>\n",
       "      <td>VICE_PRESIDENT</td>\n",
       "      <td>DOCTORAL</td>\n",
       "      <td>PHYSICS</td>\n",
       "      <td>HEALTH</td>\n",
       "      <td>10</td>\n",
       "      <td>38</td>\n",
       "      <td>137</td>\n",
       "      <td>Yes</td>\n",
       "      <td>133.640097</td>\n",
       "      <td>115.555975</td>\n",
       "      <td>125.984643</td>\n",
       "    </tr>\n",
       "    <tr>\n",
       "      <th>3</th>\n",
       "      <td>MANAGER</td>\n",
       "      <td>DOCTORAL</td>\n",
       "      <td>CHEMISTRY</td>\n",
       "      <td>AUTO</td>\n",
       "      <td>8</td>\n",
       "      <td>17</td>\n",
       "      <td>142</td>\n",
       "      <td>Yes</td>\n",
       "      <td>118.915865</td>\n",
       "      <td>123.099326</td>\n",
       "      <td>134.086609</td>\n",
       "    </tr>\n",
       "    <tr>\n",
       "      <th>4</th>\n",
       "      <td>VICE_PRESIDENT</td>\n",
       "      <td>BACHELORS</td>\n",
       "      <td>PHYSICS</td>\n",
       "      <td>FINANCE</td>\n",
       "      <td>8</td>\n",
       "      <td>16</td>\n",
       "      <td>163</td>\n",
       "      <td>Yes</td>\n",
       "      <td>142.290323</td>\n",
       "      <td>123.099326</td>\n",
       "      <td>134.086609</td>\n",
       "    </tr>\n",
       "  </tbody>\n",
       "</table>\n",
       "</div>"
      ],
      "text/plain": [
       "          jobType       degree      major industry  yearsExperience  \\\n",
       "0             CFO      MASTERS       MATH   HEALTH               10   \n",
       "1             CEO  HIGH_SCHOOL       NONE      WEB                3   \n",
       "2  VICE_PRESIDENT     DOCTORAL    PHYSICS   HEALTH               10   \n",
       "3         MANAGER     DOCTORAL  CHEMISTRY     AUTO                8   \n",
       "4  VICE_PRESIDENT    BACHELORS    PHYSICS  FINANCE                8   \n",
       "\n",
       "   milesFromMetropolis  salary Attended_College  cat_feat_mean  exp_dist_mean  \\\n",
       "0                   83     130              Yes     141.246753      98.397741   \n",
       "1                   73     101               No     140.051566      92.133040   \n",
       "2                   38     137              Yes     133.640097     115.555975   \n",
       "3                   17     142              Yes     118.915865     123.099326   \n",
       "4                   16     163              Yes     142.290323     123.099326   \n",
       "\n",
       "   dist_job_mean  \n",
       "0     124.448359  \n",
       "1     128.446613  \n",
       "2     125.984643  \n",
       "3     134.086609  \n",
       "4     134.086609  "
      ]
     },
     "execution_count": 9,
     "metadata": {},
     "output_type": "execute_result"
    }
   ],
   "source": [
    "train_final.head()"
   ]
  },
  {
   "cell_type": "code",
   "execution_count": 10,
   "metadata": {},
   "outputs": [],
   "source": [
    "#separting the target from the feature df\n",
    "Y=train_final.pop(\"salary\")\n",
    "\n",
    "#one hot encoding the categorical features\n",
    "X=pd.get_dummies(train_final)"
   ]
  },
  {
   "cell_type": "code",
   "execution_count": 11,
   "metadata": {},
   "outputs": [
    {
     "data": {
      "text/html": [
       "<div>\n",
       "<style scoped>\n",
       "    .dataframe tbody tr th:only-of-type {\n",
       "        vertical-align: middle;\n",
       "    }\n",
       "\n",
       "    .dataframe tbody tr th {\n",
       "        vertical-align: top;\n",
       "    }\n",
       "\n",
       "    .dataframe thead th {\n",
       "        text-align: right;\n",
       "    }\n",
       "</style>\n",
       "<table border=\"1\" class=\"dataframe\">\n",
       "  <thead>\n",
       "    <tr style=\"text-align: right;\">\n",
       "      <th></th>\n",
       "      <th>yearsExperience</th>\n",
       "      <th>milesFromMetropolis</th>\n",
       "      <th>cat_feat_mean</th>\n",
       "      <th>exp_dist_mean</th>\n",
       "      <th>dist_job_mean</th>\n",
       "      <th>jobType_CEO</th>\n",
       "      <th>jobType_CFO</th>\n",
       "      <th>jobType_CTO</th>\n",
       "      <th>jobType_JANITOR</th>\n",
       "      <th>jobType_JUNIOR</th>\n",
       "      <th>...</th>\n",
       "      <th>major_PHYSICS</th>\n",
       "      <th>industry_AUTO</th>\n",
       "      <th>industry_EDUCATION</th>\n",
       "      <th>industry_FINANCE</th>\n",
       "      <th>industry_HEALTH</th>\n",
       "      <th>industry_OIL</th>\n",
       "      <th>industry_SERVICE</th>\n",
       "      <th>industry_WEB</th>\n",
       "      <th>Attended_College_No</th>\n",
       "      <th>Attended_College_Yes</th>\n",
       "    </tr>\n",
       "  </thead>\n",
       "  <tbody>\n",
       "    <tr>\n",
       "      <th>0</th>\n",
       "      <td>10</td>\n",
       "      <td>83</td>\n",
       "      <td>141.246753</td>\n",
       "      <td>98.397741</td>\n",
       "      <td>124.448359</td>\n",
       "      <td>0</td>\n",
       "      <td>1</td>\n",
       "      <td>0</td>\n",
       "      <td>0</td>\n",
       "      <td>0</td>\n",
       "      <td>...</td>\n",
       "      <td>0</td>\n",
       "      <td>0</td>\n",
       "      <td>0</td>\n",
       "      <td>0</td>\n",
       "      <td>1</td>\n",
       "      <td>0</td>\n",
       "      <td>0</td>\n",
       "      <td>0</td>\n",
       "      <td>0</td>\n",
       "      <td>1</td>\n",
       "    </tr>\n",
       "    <tr>\n",
       "      <th>1</th>\n",
       "      <td>3</td>\n",
       "      <td>73</td>\n",
       "      <td>140.051566</td>\n",
       "      <td>92.133040</td>\n",
       "      <td>128.446613</td>\n",
       "      <td>1</td>\n",
       "      <td>0</td>\n",
       "      <td>0</td>\n",
       "      <td>0</td>\n",
       "      <td>0</td>\n",
       "      <td>...</td>\n",
       "      <td>0</td>\n",
       "      <td>0</td>\n",
       "      <td>0</td>\n",
       "      <td>0</td>\n",
       "      <td>0</td>\n",
       "      <td>0</td>\n",
       "      <td>0</td>\n",
       "      <td>1</td>\n",
       "      <td>1</td>\n",
       "      <td>0</td>\n",
       "    </tr>\n",
       "    <tr>\n",
       "      <th>2</th>\n",
       "      <td>10</td>\n",
       "      <td>38</td>\n",
       "      <td>133.640097</td>\n",
       "      <td>115.555975</td>\n",
       "      <td>125.984643</td>\n",
       "      <td>0</td>\n",
       "      <td>0</td>\n",
       "      <td>0</td>\n",
       "      <td>0</td>\n",
       "      <td>0</td>\n",
       "      <td>...</td>\n",
       "      <td>1</td>\n",
       "      <td>0</td>\n",
       "      <td>0</td>\n",
       "      <td>0</td>\n",
       "      <td>1</td>\n",
       "      <td>0</td>\n",
       "      <td>0</td>\n",
       "      <td>0</td>\n",
       "      <td>0</td>\n",
       "      <td>1</td>\n",
       "    </tr>\n",
       "    <tr>\n",
       "      <th>3</th>\n",
       "      <td>8</td>\n",
       "      <td>17</td>\n",
       "      <td>118.915865</td>\n",
       "      <td>123.099326</td>\n",
       "      <td>134.086609</td>\n",
       "      <td>0</td>\n",
       "      <td>0</td>\n",
       "      <td>0</td>\n",
       "      <td>0</td>\n",
       "      <td>0</td>\n",
       "      <td>...</td>\n",
       "      <td>0</td>\n",
       "      <td>1</td>\n",
       "      <td>0</td>\n",
       "      <td>0</td>\n",
       "      <td>0</td>\n",
       "      <td>0</td>\n",
       "      <td>0</td>\n",
       "      <td>0</td>\n",
       "      <td>0</td>\n",
       "      <td>1</td>\n",
       "    </tr>\n",
       "    <tr>\n",
       "      <th>4</th>\n",
       "      <td>8</td>\n",
       "      <td>16</td>\n",
       "      <td>142.290323</td>\n",
       "      <td>123.099326</td>\n",
       "      <td>134.086609</td>\n",
       "      <td>0</td>\n",
       "      <td>0</td>\n",
       "      <td>0</td>\n",
       "      <td>0</td>\n",
       "      <td>0</td>\n",
       "      <td>...</td>\n",
       "      <td>1</td>\n",
       "      <td>0</td>\n",
       "      <td>0</td>\n",
       "      <td>1</td>\n",
       "      <td>0</td>\n",
       "      <td>0</td>\n",
       "      <td>0</td>\n",
       "      <td>0</td>\n",
       "      <td>0</td>\n",
       "      <td>1</td>\n",
       "    </tr>\n",
       "  </tbody>\n",
       "</table>\n",
       "<p>5 rows × 36 columns</p>\n",
       "</div>"
      ],
      "text/plain": [
       "   yearsExperience  milesFromMetropolis  cat_feat_mean  exp_dist_mean  \\\n",
       "0               10                   83     141.246753      98.397741   \n",
       "1                3                   73     140.051566      92.133040   \n",
       "2               10                   38     133.640097     115.555975   \n",
       "3                8                   17     118.915865     123.099326   \n",
       "4                8                   16     142.290323     123.099326   \n",
       "\n",
       "   dist_job_mean  jobType_CEO  jobType_CFO  jobType_CTO  jobType_JANITOR  \\\n",
       "0     124.448359            0            1            0                0   \n",
       "1     128.446613            1            0            0                0   \n",
       "2     125.984643            0            0            0                0   \n",
       "3     134.086609            0            0            0                0   \n",
       "4     134.086609            0            0            0                0   \n",
       "\n",
       "   jobType_JUNIOR  ...  major_PHYSICS  industry_AUTO  industry_EDUCATION  \\\n",
       "0               0  ...              0              0                   0   \n",
       "1               0  ...              0              0                   0   \n",
       "2               0  ...              1              0                   0   \n",
       "3               0  ...              0              1                   0   \n",
       "4               0  ...              1              0                   0   \n",
       "\n",
       "   industry_FINANCE  industry_HEALTH  industry_OIL  industry_SERVICE  \\\n",
       "0                 0                1             0                 0   \n",
       "1                 0                0             0                 0   \n",
       "2                 0                1             0                 0   \n",
       "3                 0                0             0                 0   \n",
       "4                 1                0             0                 0   \n",
       "\n",
       "   industry_WEB  Attended_College_No  Attended_College_Yes  \n",
       "0             0                    0                     1  \n",
       "1             1                    1                     0  \n",
       "2             0                    0                     1  \n",
       "3             0                    0                     1  \n",
       "4             0                    0                     1  \n",
       "\n",
       "[5 rows x 36 columns]"
      ]
     },
     "execution_count": 11,
     "metadata": {},
     "output_type": "execute_result"
    }
   ],
   "source": [
    "X.head()"
   ]
  },
  {
   "cell_type": "code",
   "execution_count": 12,
   "metadata": {},
   "outputs": [
    {
     "data": {
      "text/plain": [
       "0    130\n",
       "1    101\n",
       "2    137\n",
       "3    142\n",
       "4    163\n",
       "Name: salary, dtype: int64"
      ]
     },
     "execution_count": 12,
     "metadata": {},
     "output_type": "execute_result"
    }
   ],
   "source": [
    "Y.head()"
   ]
  },
  {
   "cell_type": "code",
   "execution_count": 13,
   "metadata": {},
   "outputs": [],
   "source": [
    "def split(X,Y):\n",
    "    return(train_test_split(X,Y, test_size = 0.2, random_state = 40))"
   ]
  },
  {
   "cell_type": "code",
   "execution_count": 14,
   "metadata": {},
   "outputs": [],
   "source": [
    "xtrain, xtest, ytrain, ytest=split(X,Y)"
   ]
  },
  {
   "cell_type": "markdown",
   "metadata": {},
   "source": [
    "### 4.2.3 -------- Linear Regression ---------"
   ]
  },
  {
   "cell_type": "markdown",
   "metadata": {},
   "source": [
    ">**We will be using a simple regression model like Linear model as a baseline model,so that we can understand the trends better and further we will see how feature engineering works on the model and learn more about the penalities and outliers.**"
   ]
  },
  {
   "cell_type": "code",
   "execution_count": 24,
   "metadata": {},
   "outputs": [],
   "source": [
    "def Linear_Model(lr,X,Y,kind):\n",
    "    print(\"Validating the model on \"+kind+\".....\")\n",
    "    \n",
    "    y_pre=lr.predict(X)\n",
    "    \n",
    "    plt.figure(figsize = (14, 6))\n",
    "    plt.subplot(1,2,1)\n",
    "    sns.regplot(x=Y, y=y_pre,line_kws={\"color\":\"r\"})\n",
    "    plt.xlabel(\"Actual Salary\")\n",
    "    plt.ylabel(\"Predicted Salary\")\n",
    "    \n",
    "    plt.subplot(1,2,2)\n",
    "    sns.distplot(Y - y_pre,bins=20)\n",
    "    plt.title(\"Error Plot\")\n",
    "    plt.show\n",
    "    \n",
    "    #5 Fold Cross Validation\n",
    "    cv_score = cross_val_score(lr, X, Y, cv=5)\n",
    "    print(\"\\n\",cv_score,\"\\n\")\n",
    "    print(\"\\n  5-Fold Cross Validation on \"+kind, (np.mean(cv_score)))\n",
    "    \n",
    "    # MSE - \n",
    "    print('\\n MSE on '+kind, mean_squared_error(Y, y_pre))\n",
    "    \n",
    "    if kind==\"Train Data\":\n",
    "        X = sm.add_constant(X)\n",
    "        lm = sm.OLS(Y,X).fit()\n",
    "        print(lm.summary())\n",
    "    \n",
    "    #orginal and predicted df(out of scope for now)\n",
    "    #pre_df=pd.DataFrame((y_pre),columns=['Prediction'],index=Y.index)\n",
    "    #pre_df[\"Salary\"]=Y\n",
    "    #return(pre_df)\n",
    "    return(0)"
   ]
  },
  {
   "cell_type": "code",
   "execution_count": 21,
   "metadata": {},
   "outputs": [
    {
     "data": {
      "text/plain": [
       "LinearRegression(copy_X=True, fit_intercept=True, n_jobs=None,\n",
       "         normalize=False)"
      ]
     },
     "execution_count": 21,
     "metadata": {},
     "output_type": "execute_result"
    }
   ],
   "source": [
    "lr = LinearRegression()\n",
    "lr.fit(xtrain,ytrain)"
   ]
  },
  {
   "cell_type": "markdown",
   "metadata": {},
   "source": [
    "#### 4.2.3.1 ------ Validating Train Set --------"
   ]
  },
  {
   "cell_type": "code",
   "execution_count": 27,
   "metadata": {},
   "outputs": [
    {
     "name": "stdout",
     "output_type": "stream",
     "text": [
      "Validating the model on Train Data.....\n",
      "\n",
      " [0.75896332 0.75759988 0.75895026 0.75742102 0.75838018] \n",
      "\n",
      "\n",
      "  5-Fold Cross Validation on Train Data 0.7582629329669285\n",
      "\n",
      " MSE on Train Data 361.90141908482303\n"
     ]
    },
    {
     "name": "stderr",
     "output_type": "stream",
     "text": [
      "C:\\ProgramData\\Anaconda3\\lib\\site-packages\\numpy\\core\\fromnumeric.py:2389: FutureWarning: Method .ptp is deprecated and will be removed in a future version. Use numpy.ptp instead.\n",
      "  return ptp(axis=axis, out=out, **kwargs)\n"
     ]
    },
    {
     "name": "stdout",
     "output_type": "stream",
     "text": [
      "                            OLS Regression Results                            \n",
      "==============================================================================\n",
      "Dep. Variable:                 salary   R-squared:                       0.758\n",
      "Model:                            OLS   Adj. R-squared:                  0.758\n",
      "Method:                 Least Squares   F-statistic:                 8.365e+04\n",
      "Date:                Wed, 25 Sep 2019   Prob (F-statistic):               0.00\n",
      "Time:                        17:10:31   Log-Likelihood:            -3.4917e+06\n",
      "No. Observations:              799996   AIC:                         6.983e+06\n",
      "Df Residuals:                  799965   BIC:                         6.984e+06\n",
      "Df Model:                          30                                         \n",
      "Covariance Type:            nonrobust                                         \n",
      "==========================================================================================\n",
      "                             coef    std err          t      P>|t|      [0.025      0.975]\n",
      "------------------------------------------------------------------------------------------\n",
      "const                      3.7032      1.236      2.996      0.003       1.280       6.126\n",
      "yearsExperience            0.9420      0.008    116.461      0.000       0.926       0.958\n",
      "milesFromMetropolis       -0.3842      0.007    -52.776      0.000      -0.398      -0.370\n",
      "cat_feat_mean              0.9636      0.006    171.157      0.000       0.953       0.975\n",
      "exp_dist_mean              0.5636      0.004    141.287      0.000       0.556       0.571\n",
      "dist_job_mean             -0.5258      0.019    -28.070      0.000      -0.562      -0.489\n",
      "jobType_CEO               13.3382      0.608     21.954      0.000      12.147      14.529\n",
      "jobType_CFO               13.0952      0.592     22.120      0.000      11.935      14.256\n",
      "jobType_CTO               12.9947      0.592     21.950      0.000      11.834      14.155\n",
      "jobType_JANITOR          -24.5915      0.722    -34.051      0.000     -26.007     -23.176\n",
      "jobType_JUNIOR            -8.5329      0.180    -47.448      0.000      -8.885      -8.180\n",
      "jobType_MANAGER            2.6450      0.237     11.180      0.000       2.181       3.109\n",
      "jobType_SENIOR            -8.1728      0.161    -50.769      0.000      -8.488      -7.857\n",
      "jobType_VICE_PRESIDENT     2.9274      0.250     11.727      0.000       2.438       3.417\n",
      "degree_BACHELORS           0.5310      0.218      2.437      0.015       0.104       0.958\n",
      "degree_DOCTORAL            0.8763      0.234      3.739      0.000       0.417       1.336\n",
      "degree_HIGH_SCHOOL         0.8523      0.293      2.912      0.004       0.279       1.426\n",
      "degree_MASTERS             0.7061      0.224      3.146      0.002       0.266       1.146\n",
      "degree_NONE                0.7375      0.288      2.560      0.010       0.173       1.302\n",
      "major_BIOLOGY              0.3303      0.158      2.091      0.037       0.021       0.640\n",
      "major_BUSINESS             0.5819      0.170      3.429      0.001       0.249       0.914\n",
      "major_CHEMISTRY            0.3842      0.159      2.417      0.016       0.073       0.696\n",
      "major_COMPSCI              0.5193      0.163      3.191      0.001       0.200       0.838\n",
      "major_ENGINEERING          0.7027      0.177      3.980      0.000       0.357       1.049\n",
      "major_LITERATURE           0.1860      0.157      1.189      0.235      -0.121       0.493\n",
      "major_MATH                 0.4643      0.165      2.817      0.005       0.141       0.787\n",
      "major_NONE                 0.0907      0.155      0.584      0.560      -0.214       0.395\n",
      "major_PHYSICS              0.4438      0.160      2.769      0.006       0.130       0.758\n",
      "industry_AUTO              0.3091      0.178      1.731      0.083      -0.041       0.659\n",
      "industry_EDUCATION        -0.0729      0.184     -0.396      0.692      -0.434       0.288\n",
      "industry_FINANCE           1.0926      0.220      4.971      0.000       0.662       1.523\n",
      "industry_HEALTH            0.5685      0.184      3.097      0.002       0.209       0.928\n",
      "industry_OIL               1.0202      0.221      4.627      0.000       0.588       1.452\n",
      "industry_SERVICE           0.1011      0.179      0.564      0.573      -0.250       0.452\n",
      "industry_WEB               0.6846      0.194      3.522      0.000       0.304       1.066\n",
      "Attended_College_No        1.5898      0.577      2.755      0.006       0.459       2.721\n",
      "Attended_College_Yes       2.1134      0.662      3.193      0.001       0.816       3.411\n",
      "==============================================================================\n",
      "Omnibus:                     5720.569   Durbin-Watson:                   2.001\n",
      "Prob(Omnibus):                  0.000   Jarque-Bera (JB):             4946.222\n",
      "Skew:                           0.139   Prob(JB):                         0.00\n",
      "Kurtosis:                       2.734   Cond. No.                     1.52e+17\n",
      "==============================================================================\n",
      "\n",
      "Warnings:\n",
      "[1] Standard Errors assume that the covariance matrix of the errors is correctly specified.\n",
      "[2] The smallest eigenvalue is 1.51e-24. This might indicate that there are\n",
      "strong multicollinearity problems or that the design matrix is singular.\n"
     ]
    },
    {
     "data": {
      "image/png": "[encoded data removed]",
      "text/plain": [
       "<Figure size 1008x432 with 2 Axes>"
      ]
     },
     "metadata": {
      "needs_background": "light"
     },
     "output_type": "display_data"
    }
   ],
   "source": [
    "new_df_tr=Linear_Model(lr,xtrain,ytrain,\"Train Data\")"
   ]
  },
  {
   "cell_type": "markdown",
   "metadata": {},
   "source": [
    "#### 4.3.2 ------ Validating Test Set ------"
   ]
  },
  {
   "cell_type": "code",
   "execution_count": 28,
   "metadata": {},
   "outputs": [
    {
     "name": "stdout",
     "output_type": "stream",
     "text": [
      "Validating the model on Test Data.....\n",
      "\n",
      " [0.76067646 0.7603086  0.76035223 0.76015758 0.75750467] \n",
      "\n",
      "\n",
      "  5-Fold Cross Validation on Test Data 0.7597999085125889\n",
      "\n",
      " MSE on Test Data 361.6692720899025\n"
     ]
    },
    {
     "data": {
      "image/png": "[encoded data removed]",
      "text/plain": [
       "<Figure size 1008x432 with 2 Axes>"
      ]
     },
     "metadata": {
      "needs_background": "light"
     },
     "output_type": "display_data"
    }
   ],
   "source": [
    "new_df_ts=Linear_Model(lr,xtest,ytest,\"Test Data\")"
   ]
  },
  {
   "cell_type": "markdown",
   "metadata": {},
   "source": [
    "#### 4.2.3.4 ------------ Polynomial Features --------"
   ]
  },
  {
   "cell_type": "markdown",
   "metadata": {},
   "source": [
    ">Let's see how the model fetches signal with more added features."
   ]
  },
  {
   "cell_type": "code",
   "execution_count": 29,
   "metadata": {},
   "outputs": [],
   "source": [
    "from sklearn.preprocessing import PolynomialFeatures\n",
    "\n",
    "poly_trans = PolynomialFeatures(degree=2,interaction_only=True)\n",
    "xtr_poly = poly_trans.fit_transform(xtrain)\n",
    "xts_poly = poly_trans.fit_transform(xtest)"
   ]
  },
  {
   "cell_type": "code",
   "execution_count": 30,
   "metadata": {},
   "outputs": [
    {
     "data": {
      "text/plain": [
       "(799996, 667)"
      ]
     },
     "execution_count": 30,
     "metadata": {},
     "output_type": "execute_result"
    }
   ],
   "source": [
    "xtr_poly.shape"
   ]
  },
  {
   "cell_type": "markdown",
   "metadata": {},
   "source": [
    "#### 4.2.3.4.1 ------ Train data ----------"
   ]
  },
  {
   "cell_type": "code",
   "execution_count": 31,
   "metadata": {},
   "outputs": [
    {
     "name": "stdout",
     "output_type": "stream",
     "text": [
      "Validating the model on Train Data Polynomial Transformed.....\n",
      "\n",
      " [0.76424596 0.76287929 0.76417422 0.76296608 0.76382422] \n",
      "\n",
      "\n",
      "  5-Fold Cross Validation on Train Data Polynomial Transformed 0.76361795474682\n",
      "\n",
      " MSE on Train Data Polynomial Transformed 353.57873321607775\n"
     ]
    },
    {
     "data": {
      "text/plain": [
       "0"
      ]
     },
     "execution_count": 31,
     "metadata": {},
     "output_type": "execute_result"
    },
    {
     "data": {
      "image/png": "[encoded data removed]",
      "text/plain": [
       "<Figure size 1008x432 with 2 Axes>"
      ]
     },
     "metadata": {
      "needs_background": "light"
     },
     "output_type": "display_data"
    }
   ],
   "source": [
    "poly_lr = LinearRegression()\n",
    "poly_lr.fit(xtr_poly, ytrain)\n",
    "#p1=poly_lr\n",
    "Linear_Model(poly_lr,xtr_poly,ytrain,\"Train Data Polynomial Transformed\")"
   ]
  },
  {
   "cell_type": "markdown",
   "metadata": {},
   "source": [
    "#### 4.2.3.3.2 -------------- Test Data ----------"
   ]
  },
  {
   "cell_type": "code",
   "execution_count": 32,
   "metadata": {},
   "outputs": [
    {
     "name": "stdout",
     "output_type": "stream",
     "text": [
      "Validating the model on Test Data Polynomial Transformed.....\n",
      "\n",
      " [0.76609145 0.76532767 0.76509167 0.76520364 0.76323781] \n",
      "\n",
      "\n",
      "  5-Fold Cross Validation on Test Data Polynomial Transformed 0.7649904482951874\n",
      "\n",
      " MSE on Test Data Polynomial Transformed 353.2073512937853\n"
     ]
    },
    {
     "data": {
      "text/plain": [
       "0"
      ]
     },
     "execution_count": 32,
     "metadata": {},
     "output_type": "execute_result"
    },
    {
     "data": {
      "image/png": "[encoded data removed]",
      "text/plain": [
       "<Figure size 1008x432 with 2 Axes>"
      ]
     },
     "metadata": {
      "needs_background": "light"
     },
     "output_type": "display_data"
    }
   ],
   "source": [
    "Linear_Model(poly_lr,xts_poly,ytest,\"Test Data Polynomial Transformed\")"
   ]
  },
  {
   "cell_type": "markdown",
   "metadata": {},
   "source": [
    "### 4.2.4 ------------- Random Forest -------------"
   ]
  },
  {
   "cell_type": "markdown",
   "metadata": {},
   "source": [
    ">Now lets see if the prediction improves with a tree model such as Random Forest.I will be hand tuning the hyperparmetering and will use grid search to fine tune  it."
   ]
  },
  {
   "cell_type": "code",
   "execution_count": 33,
   "metadata": {},
   "outputs": [
    {
     "name": "stderr",
     "output_type": "stream",
     "text": [
      "C:\\ProgramData\\Anaconda3\\lib\\site-packages\\sklearn\\ensemble\\forest.py:246: FutureWarning: The default value of n_estimators will change from 10 in version 0.20 to 100 in 0.22.\n",
      "  \"10 in version 0.20 to 100 in 0.22.\", FutureWarning)\n"
     ]
    },
    {
     "name": "stdout",
     "output_type": "stream",
     "text": [
      "MSE score is:125.94325384517083\n",
      "MSE score is:459.14338797311405\n"
     ]
    }
   ],
   "source": [
    "from sklearn.ensemble import RandomForestRegressor\n",
    "\n",
    "rf=RandomForestRegressor()\n",
    "rf.fit(xtrain,ytrain)\n",
    "rf_predict=rf.predict(xtrain)\n",
    "Mse_Err=mean_squared_error(ytrain,rf_predict)\n",
    "#print(\"The OOB Score is: \" + str(rf.oob_score_))\n",
    "print(\"MSE score is:\"+str(Mse_Err))\n",
    "rf_predict=rf.predict(xtest)\n",
    "Mse_Err=mean_squared_error(ytest,rf_predict)\n",
    "print(\"MSE score is:\"+str(Mse_Err))"
   ]
  },
  {
   "cell_type": "code",
   "execution_count": 34,
   "metadata": {},
   "outputs": [],
   "source": [
    "def plot_hyper(hyper_list,mse_err_tr,mse_err_ts,hyper_kind):\n",
    "    plt.plot(hyper_list, mse_err_tr, label='Train Set')\n",
    "    plt.plot(hyper_list, mse_err_ts, label='Test Set')\n",
    "    plt.xlabel(hyper_kind)\n",
    "    plt.ylabel('MSE Score')\n",
    "    plt.title('Train VS Test Scores')\n",
    "    plt.legend(loc=\"center right\")\n",
    "    plt.show()\n",
    "    print(\"Minimun MSE for \"+hyper_kind+\" is: \",hyper_list[mse_err_ts.index(min(mse_err_ts))])"
   ]
  },
  {
   "cell_type": "code",
   "execution_count": 35,
   "metadata": {},
   "outputs": [
    {
     "name": "stderr",
     "output_type": "stream",
     "text": [
      "C:\\ProgramData\\Anaconda3\\lib\\site-packages\\sklearn\\ensemble\\forest.py:246: FutureWarning: The default value of n_estimators will change from 10 in version 0.20 to 100 in 0.22.\n",
      "  \"10 in version 0.20 to 100 in 0.22.\", FutureWarning)\n"
     ]
    },
    {
     "name": "stdout",
     "output_type": "stream",
     "text": [
      "Maximum depth  :1\n",
      "MSE score on train: 965.4942937486786\n",
      "MSE score on test: 970.4113690324685\n"
     ]
    },
    {
     "name": "stderr",
     "output_type": "stream",
     "text": [
      "C:\\ProgramData\\Anaconda3\\lib\\site-packages\\sklearn\\ensemble\\forest.py:246: FutureWarning: The default value of n_estimators will change from 10 in version 0.20 to 100 in 0.22.\n",
      "  \"10 in version 0.20 to 100 in 0.22.\", FutureWarning)\n"
     ]
    },
    {
     "name": "stdout",
     "output_type": "stream",
     "text": [
      "Maximum depth  :5\n",
      "MSE score on train: 403.4853630780147\n",
      "MSE score on test: 403.421461631402\n"
     ]
    },
    {
     "name": "stderr",
     "output_type": "stream",
     "text": [
      "C:\\ProgramData\\Anaconda3\\lib\\site-packages\\sklearn\\ensemble\\forest.py:246: FutureWarning: The default value of n_estimators will change from 10 in version 0.20 to 100 in 0.22.\n",
      "  \"10 in version 0.20 to 100 in 0.22.\", FutureWarning)\n"
     ]
    },
    {
     "name": "stdout",
     "output_type": "stream",
     "text": [
      "Maximum depth  :10\n",
      "MSE score on train: 356.2883102460349\n",
      "MSE score on test: 360.9295233787715\n"
     ]
    },
    {
     "name": "stderr",
     "output_type": "stream",
     "text": [
      "C:\\ProgramData\\Anaconda3\\lib\\site-packages\\sklearn\\ensemble\\forest.py:246: FutureWarning: The default value of n_estimators will change from 10 in version 0.20 to 100 in 0.22.\n",
      "  \"10 in version 0.20 to 100 in 0.22.\", FutureWarning)\n"
     ]
    },
    {
     "name": "stdout",
     "output_type": "stream",
     "text": [
      "Maximum depth  :11\n",
      "MSE score on train: 351.0552380995531\n",
      "MSE score on test: 359.5616231744691\n"
     ]
    },
    {
     "name": "stderr",
     "output_type": "stream",
     "text": [
      "C:\\ProgramData\\Anaconda3\\lib\\site-packages\\sklearn\\ensemble\\forest.py:246: FutureWarning: The default value of n_estimators will change from 10 in version 0.20 to 100 in 0.22.\n",
      "  \"10 in version 0.20 to 100 in 0.22.\", FutureWarning)\n"
     ]
    },
    {
     "name": "stdout",
     "output_type": "stream",
     "text": [
      "Maximum depth  :12\n",
      "MSE score on train: 344.12351190408987\n",
      "MSE score on test: 359.37909061112396\n"
     ]
    },
    {
     "name": "stderr",
     "output_type": "stream",
     "text": [
      "C:\\ProgramData\\Anaconda3\\lib\\site-packages\\sklearn\\ensemble\\forest.py:246: FutureWarning: The default value of n_estimators will change from 10 in version 0.20 to 100 in 0.22.\n",
      "  \"10 in version 0.20 to 100 in 0.22.\", FutureWarning)\n"
     ]
    },
    {
     "name": "stdout",
     "output_type": "stream",
     "text": [
      "Maximum depth  :13\n",
      "MSE score on train: 334.8627163976957\n",
      "MSE score on test: 360.5621275956407\n"
     ]
    },
    {
     "name": "stderr",
     "output_type": "stream",
     "text": [
      "C:\\ProgramData\\Anaconda3\\lib\\site-packages\\sklearn\\ensemble\\forest.py:246: FutureWarning: The default value of n_estimators will change from 10 in version 0.20 to 100 in 0.22.\n",
      "  \"10 in version 0.20 to 100 in 0.22.\", FutureWarning)\n"
     ]
    },
    {
     "name": "stdout",
     "output_type": "stream",
     "text": [
      "Maximum depth  :14\n",
      "MSE score on train: 322.71719210714167\n",
      "MSE score on test: 362.85649129375025\n"
     ]
    },
    {
     "name": "stderr",
     "output_type": "stream",
     "text": [
      "C:\\ProgramData\\Anaconda3\\lib\\site-packages\\sklearn\\ensemble\\forest.py:246: FutureWarning: The default value of n_estimators will change from 10 in version 0.20 to 100 in 0.22.\n",
      "  \"10 in version 0.20 to 100 in 0.22.\", FutureWarning)\n"
     ]
    },
    {
     "name": "stdout",
     "output_type": "stream",
     "text": [
      "Maximum depth  :15\n",
      "MSE score on train: 307.4242604613055\n",
      "MSE score on test: 366.4743997078245\n"
     ]
    },
    {
     "name": "stderr",
     "output_type": "stream",
     "text": [
      "C:\\ProgramData\\Anaconda3\\lib\\site-packages\\sklearn\\ensemble\\forest.py:246: FutureWarning: The default value of n_estimators will change from 10 in version 0.20 to 100 in 0.22.\n",
      "  \"10 in version 0.20 to 100 in 0.22.\", FutureWarning)\n"
     ]
    },
    {
     "name": "stdout",
     "output_type": "stream",
     "text": [
      "Maximum depth  :16\n",
      "MSE score on train: 289.56582812011914\n",
      "MSE score on test: 371.3308277491505\n"
     ]
    },
    {
     "name": "stderr",
     "output_type": "stream",
     "text": [
      "C:\\ProgramData\\Anaconda3\\lib\\site-packages\\sklearn\\ensemble\\forest.py:246: FutureWarning: The default value of n_estimators will change from 10 in version 0.20 to 100 in 0.22.\n",
      "  \"10 in version 0.20 to 100 in 0.22.\", FutureWarning)\n"
     ]
    },
    {
     "name": "stdout",
     "output_type": "stream",
     "text": [
      "Maximum depth  :17\n",
      "MSE score on train: 269.7379107811644\n",
      "MSE score on test: 377.49805299442266\n"
     ]
    },
    {
     "name": "stderr",
     "output_type": "stream",
     "text": [
      "C:\\ProgramData\\Anaconda3\\lib\\site-packages\\sklearn\\ensemble\\forest.py:246: FutureWarning: The default value of n_estimators will change from 10 in version 0.20 to 100 in 0.22.\n",
      "  \"10 in version 0.20 to 100 in 0.22.\", FutureWarning)\n"
     ]
    },
    {
     "name": "stdout",
     "output_type": "stream",
     "text": [
      "Maximum depth  :20\n",
      "MSE score on train: 209.9816356655064\n",
      "MSE score on test: 401.4900541748331\n"
     ]
    },
    {
     "name": "stderr",
     "output_type": "stream",
     "text": [
      "C:\\ProgramData\\Anaconda3\\lib\\site-packages\\sklearn\\ensemble\\forest.py:246: FutureWarning: The default value of n_estimators will change from 10 in version 0.20 to 100 in 0.22.\n",
      "  \"10 in version 0.20 to 100 in 0.22.\", FutureWarning)\n"
     ]
    },
    {
     "name": "stdout",
     "output_type": "stream",
     "text": [
      "Maximum depth  :25\n",
      "MSE score on train: 147.17253649834345\n",
      "MSE score on test: 438.29294427985\n"
     ]
    },
    {
     "data": {
      "image/png": "[encoded data removed]",
      "text/plain": [
       "<Figure size 432x288 with 1 Axes>"
      ]
     },
     "metadata": {
      "needs_background": "light"
     },
     "output_type": "display_data"
    },
    {
     "name": "stdout",
     "output_type": "stream",
     "text": [
      "Minimun MSE for max_depths is:  12\n"
     ]
    }
   ],
   "source": [
    "# Values for max_depth\n",
    "max_depths = [1, 5, 10, 11, 12, 13, 14, 15, 16, 17, 20, 25]\n",
    "mse_err_tr=[]\n",
    "mse_err_ts=[]\n",
    "\n",
    "for md in max_depths:\n",
    "    rf=RandomForestRegressor(max_depth=md,random_state=44,n_jobs=-1)\n",
    "    rf.fit(xtrain,ytrain)\n",
    "    print(\"Maximum depth  :\"+str(md))\n",
    "    \n",
    "    #on train data\n",
    "    rf_predict=rf.predict(xtrain)\n",
    "    Err=mean_squared_error(ytrain,rf_predict)\n",
    "    print(\"MSE score on train: \"+str(Err))\n",
    "    mse_err_tr.append(Err)\n",
    "    \n",
    "    #on test data\n",
    "    rf_predict=rf.predict(xtest)\n",
    "    Err=mean_squared_error(ytest,rf_predict)\n",
    "    print(\"MSE score on test: \"+str(Err))\n",
    "    mse_err_ts.append(Err)\n",
    "    \n",
    "    \n",
    "plot_hyper(max_depths,mse_err_tr,mse_err_ts,\"max_depths\")    "
   ]
  },
  {
   "cell_type": "markdown",
   "metadata": {},
   "source": [
    "#### OBSERVATION:\n",
    ">Let's select the max_depth with min. MSE ,ie,12 for now and see how far we can push the score.We will deal with overfitting later by reducing the depth if necessary."
   ]
  },
  {
   "cell_type": "code",
   "execution_count": 36,
   "metadata": {},
   "outputs": [
    {
     "name": "stderr",
     "output_type": "stream",
     "text": [
      "C:\\ProgramData\\Anaconda3\\lib\\site-packages\\sklearn\\ensemble\\forest.py:246: FutureWarning: The default value of n_estimators will change from 10 in version 0.20 to 100 in 0.22.\n",
      "  \"10 in version 0.20 to 100 in 0.22.\", FutureWarning)\n"
     ]
    },
    {
     "name": "stdout",
     "output_type": "stream",
     "text": [
      "min_samples_leaf  :1\n",
      "MSE score on train: 344.12351190408987\n",
      "MSE score on test: 359.37909061112396\n"
     ]
    },
    {
     "name": "stderr",
     "output_type": "stream",
     "text": [
      "C:\\ProgramData\\Anaconda3\\lib\\site-packages\\sklearn\\ensemble\\forest.py:246: FutureWarning: The default value of n_estimators will change from 10 in version 0.20 to 100 in 0.22.\n",
      "  \"10 in version 0.20 to 100 in 0.22.\", FutureWarning)\n"
     ]
    },
    {
     "name": "stdout",
     "output_type": "stream",
     "text": [
      "min_samples_leaf  :5\n",
      "MSE score on train: 344.69721049221135\n",
      "MSE score on test: 359.3268831355193\n"
     ]
    },
    {
     "name": "stderr",
     "output_type": "stream",
     "text": [
      "C:\\ProgramData\\Anaconda3\\lib\\site-packages\\sklearn\\ensemble\\forest.py:246: FutureWarning: The default value of n_estimators will change from 10 in version 0.20 to 100 in 0.22.\n",
      "  \"10 in version 0.20 to 100 in 0.22.\", FutureWarning)\n"
     ]
    },
    {
     "name": "stdout",
     "output_type": "stream",
     "text": [
      "min_samples_leaf  :10\n",
      "MSE score on train: 345.419051523127\n",
      "MSE score on test: 359.1848777242151\n"
     ]
    },
    {
     "name": "stderr",
     "output_type": "stream",
     "text": [
      "C:\\ProgramData\\Anaconda3\\lib\\site-packages\\sklearn\\ensemble\\forest.py:246: FutureWarning: The default value of n_estimators will change from 10 in version 0.20 to 100 in 0.22.\n",
      "  \"10 in version 0.20 to 100 in 0.22.\", FutureWarning)\n"
     ]
    },
    {
     "name": "stdout",
     "output_type": "stream",
     "text": [
      "min_samples_leaf  :20\n",
      "MSE score on train: 346.63406069416465\n",
      "MSE score on test: 358.92578933697035\n"
     ]
    },
    {
     "name": "stderr",
     "output_type": "stream",
     "text": [
      "C:\\ProgramData\\Anaconda3\\lib\\site-packages\\sklearn\\ensemble\\forest.py:246: FutureWarning: The default value of n_estimators will change from 10 in version 0.20 to 100 in 0.22.\n",
      "  \"10 in version 0.20 to 100 in 0.22.\", FutureWarning)\n"
     ]
    },
    {
     "name": "stdout",
     "output_type": "stream",
     "text": [
      "min_samples_leaf  :30\n",
      "MSE score on train: 347.55026490997443\n",
      "MSE score on test: 358.6544394891584\n"
     ]
    },
    {
     "name": "stderr",
     "output_type": "stream",
     "text": [
      "C:\\ProgramData\\Anaconda3\\lib\\site-packages\\sklearn\\ensemble\\forest.py:246: FutureWarning: The default value of n_estimators will change from 10 in version 0.20 to 100 in 0.22.\n",
      "  \"10 in version 0.20 to 100 in 0.22.\", FutureWarning)\n"
     ]
    },
    {
     "name": "stdout",
     "output_type": "stream",
     "text": [
      "min_samples_leaf  :40\n",
      "MSE score on train: 348.3162868989524\n",
      "MSE score on test: 358.53418419121306\n"
     ]
    },
    {
     "name": "stderr",
     "output_type": "stream",
     "text": [
      "C:\\ProgramData\\Anaconda3\\lib\\site-packages\\sklearn\\ensemble\\forest.py:246: FutureWarning: The default value of n_estimators will change from 10 in version 0.20 to 100 in 0.22.\n",
      "  \"10 in version 0.20 to 100 in 0.22.\", FutureWarning)\n"
     ]
    },
    {
     "name": "stdout",
     "output_type": "stream",
     "text": [
      "min_samples_leaf  :50\n",
      "MSE score on train: 348.9524880376737\n",
      "MSE score on test: 358.4116084411428\n"
     ]
    },
    {
     "name": "stderr",
     "output_type": "stream",
     "text": [
      "C:\\ProgramData\\Anaconda3\\lib\\site-packages\\sklearn\\ensemble\\forest.py:246: FutureWarning: The default value of n_estimators will change from 10 in version 0.20 to 100 in 0.22.\n",
      "  \"10 in version 0.20 to 100 in 0.22.\", FutureWarning)\n"
     ]
    },
    {
     "name": "stdout",
     "output_type": "stream",
     "text": [
      "min_samples_leaf  :70\n",
      "MSE score on train: 350.00116479467533\n",
      "MSE score on test: 358.20122298060636\n"
     ]
    },
    {
     "name": "stderr",
     "output_type": "stream",
     "text": [
      "C:\\ProgramData\\Anaconda3\\lib\\site-packages\\sklearn\\ensemble\\forest.py:246: FutureWarning: The default value of n_estimators will change from 10 in version 0.20 to 100 in 0.22.\n",
      "  \"10 in version 0.20 to 100 in 0.22.\", FutureWarning)\n"
     ]
    },
    {
     "name": "stdout",
     "output_type": "stream",
     "text": [
      "min_samples_leaf  :90\n",
      "MSE score on train: 350.88986489903743\n",
      "MSE score on test: 358.1549442034901\n"
     ]
    },
    {
     "name": "stderr",
     "output_type": "stream",
     "text": [
      "C:\\ProgramData\\Anaconda3\\lib\\site-packages\\sklearn\\ensemble\\forest.py:246: FutureWarning: The default value of n_estimators will change from 10 in version 0.20 to 100 in 0.22.\n",
      "  \"10 in version 0.20 to 100 in 0.22.\", FutureWarning)\n"
     ]
    },
    {
     "name": "stdout",
     "output_type": "stream",
     "text": [
      "min_samples_leaf  :100\n",
      "MSE score on train: 351.29550599627055\n",
      "MSE score on test: 358.1417592521983\n"
     ]
    },
    {
     "name": "stderr",
     "output_type": "stream",
     "text": [
      "C:\\ProgramData\\Anaconda3\\lib\\site-packages\\sklearn\\ensemble\\forest.py:246: FutureWarning: The default value of n_estimators will change from 10 in version 0.20 to 100 in 0.22.\n",
      "  \"10 in version 0.20 to 100 in 0.22.\", FutureWarning)\n"
     ]
    },
    {
     "name": "stdout",
     "output_type": "stream",
     "text": [
      "min_samples_leaf  :120\n",
      "MSE score on train: 351.98416028127383\n",
      "MSE score on test: 358.1238578047787\n"
     ]
    },
    {
     "name": "stderr",
     "output_type": "stream",
     "text": [
      "C:\\ProgramData\\Anaconda3\\lib\\site-packages\\sklearn\\ensemble\\forest.py:246: FutureWarning: The default value of n_estimators will change from 10 in version 0.20 to 100 in 0.22.\n",
      "  \"10 in version 0.20 to 100 in 0.22.\", FutureWarning)\n"
     ]
    },
    {
     "name": "stdout",
     "output_type": "stream",
     "text": [
      "min_samples_leaf  :140\n",
      "MSE score on train: 352.5677866822585\n",
      "MSE score on test: 358.2328355934376\n"
     ]
    },
    {
     "data": {
      "image/png": "[encoded data removed]",
      "text/plain": [
       "<Figure size 432x288 with 1 Axes>"
      ]
     },
     "metadata": {
      "needs_background": "light"
     },
     "output_type": "display_data"
    },
    {
     "name": "stdout",
     "output_type": "stream",
     "text": [
      "Minimun MSE for min_samples_leaf is:  120\n"
     ]
    }
   ],
   "source": [
    "# Values for min_samples_leaf \n",
    "min_samples_leaf = [1,5, 10, 20,30,40,50,70,90,100,120,140]\n",
    "mse_err_tr=[]\n",
    "mse_err_ts=[]\n",
    "\n",
    "for msl in min_samples_leaf:\n",
    "    rf=RandomForestRegressor(max_depth=12,min_samples_leaf=msl,random_state=44,n_jobs=-1)\n",
    "    rf.fit(xtrain,ytrain)\n",
    "    print(\"min_samples_leaf  :\"+str(msl))\n",
    "    \n",
    "    #on train data\n",
    "    rf_predict=rf.predict(xtrain)\n",
    "    Err=mean_squared_error(ytrain,rf_predict)\n",
    "    print(\"MSE score on train: \"+str(Err))\n",
    "    mse_err_tr.append(Err)\n",
    "    \n",
    "    #on test data\n",
    "    rf_predict=rf.predict(xtest)\n",
    "    Err=mean_squared_error(ytest,rf_predict)\n",
    "    print(\"MSE score on test: \"+str(Err))\n",
    "    mse_err_ts.append(Err)\n",
    "    \n",
    "plot_hyper(min_samples_leaf,mse_err_tr,mse_err_ts,\"min_samples_leaf\")"
   ]
  },
  {
   "cell_type": "markdown",
   "metadata": {},
   "source": [
    "#### Observation:\n",
    ">1) We can see a slight variation in min_samples_leaf between 20-30.Let's keep that for final optimazation.\n",
    "\n",
    ">2) Increasing the leaf number ,increase the complexity odf the model,but as far as we have seen,high values of leaf number reduces overfitting and increses the score slightly.This can maybe balance between overfitting cause by max_depth.Foe now lets make the score as the max priority. Therefore lets chosse 120 for now,and optimize it again if needed ."
   ]
  },
  {
   "cell_type": "code",
   "execution_count": 37,
   "metadata": {
    "scrolled": true
   },
   "outputs": [
    {
     "name": "stderr",
     "output_type": "stream",
     "text": [
      "C:\\ProgramData\\Anaconda3\\lib\\site-packages\\sklearn\\ensemble\\forest.py:246: FutureWarning: The default value of n_estimators will change from 10 in version 0.20 to 100 in 0.22.\n",
      "  \"10 in version 0.20 to 100 in 0.22.\", FutureWarning)\n"
     ]
    },
    {
     "name": "stdout",
     "output_type": "stream",
     "text": [
      "max_features  :auto\n",
      "MSE score on train: 351.9841602812738\n",
      "MSE score on test: 358.1238578047787\n"
     ]
    },
    {
     "name": "stderr",
     "output_type": "stream",
     "text": [
      "C:\\ProgramData\\Anaconda3\\lib\\site-packages\\sklearn\\ensemble\\forest.py:246: FutureWarning: The default value of n_estimators will change from 10 in version 0.20 to 100 in 0.22.\n",
      "  \"10 in version 0.20 to 100 in 0.22.\", FutureWarning)\n"
     ]
    },
    {
     "name": "stdout",
     "output_type": "stream",
     "text": [
      "max_features  :sqrt\n",
      "MSE score on train: 371.21466382963933\n",
      "MSE score on test: 374.6563290337894\n"
     ]
    },
    {
     "name": "stderr",
     "output_type": "stream",
     "text": [
      "C:\\ProgramData\\Anaconda3\\lib\\site-packages\\sklearn\\ensemble\\forest.py:246: FutureWarning: The default value of n_estimators will change from 10 in version 0.20 to 100 in 0.22.\n",
      "  \"10 in version 0.20 to 100 in 0.22.\", FutureWarning)\n"
     ]
    },
    {
     "name": "stdout",
     "output_type": "stream",
     "text": [
      "max_features  :log2\n",
      "MSE score on train: 381.6086389655501\n",
      "MSE score on test: 385.6344050538894\n"
     ]
    },
    {
     "name": "stderr",
     "output_type": "stream",
     "text": [
      "C:\\ProgramData\\Anaconda3\\lib\\site-packages\\sklearn\\ensemble\\forest.py:246: FutureWarning: The default value of n_estimators will change from 10 in version 0.20 to 100 in 0.22.\n",
      "  \"10 in version 0.20 to 100 in 0.22.\", FutureWarning)\n"
     ]
    },
    {
     "name": "stdout",
     "output_type": "stream",
     "text": [
      "max_features  :None\n",
      "MSE score on train: 351.9841602812738\n",
      "MSE score on test: 358.1238578047787\n"
     ]
    },
    {
     "name": "stderr",
     "output_type": "stream",
     "text": [
      "C:\\ProgramData\\Anaconda3\\lib\\site-packages\\sklearn\\ensemble\\forest.py:246: FutureWarning: The default value of n_estimators will change from 10 in version 0.20 to 100 in 0.22.\n",
      "  \"10 in version 0.20 to 100 in 0.22.\", FutureWarning)\n"
     ]
    },
    {
     "name": "stdout",
     "output_type": "stream",
     "text": [
      "max_features  :0.1\n",
      "MSE score on train: 403.19066981677344\n",
      "MSE score on test: 406.1990544753779\n"
     ]
    },
    {
     "name": "stderr",
     "output_type": "stream",
     "text": [
      "C:\\ProgramData\\Anaconda3\\lib\\site-packages\\sklearn\\ensemble\\forest.py:246: FutureWarning: The default value of n_estimators will change from 10 in version 0.20 to 100 in 0.22.\n",
      "  \"10 in version 0.20 to 100 in 0.22.\", FutureWarning)\n"
     ]
    },
    {
     "name": "stdout",
     "output_type": "stream",
     "text": [
      "max_features  :0.2\n",
      "MSE score on train: 368.40037445463366\n",
      "MSE score on test: 372.5245505553056\n"
     ]
    },
    {
     "name": "stderr",
     "output_type": "stream",
     "text": [
      "C:\\ProgramData\\Anaconda3\\lib\\site-packages\\sklearn\\ensemble\\forest.py:246: FutureWarning: The default value of n_estimators will change from 10 in version 0.20 to 100 in 0.22.\n",
      "  \"10 in version 0.20 to 100 in 0.22.\", FutureWarning)\n"
     ]
    },
    {
     "name": "stdout",
     "output_type": "stream",
     "text": [
      "max_features  :0.3\n",
      "MSE score on train: 359.0313029855981\n",
      "MSE score on test: 363.3527947901601\n"
     ]
    },
    {
     "name": "stderr",
     "output_type": "stream",
     "text": [
      "C:\\ProgramData\\Anaconda3\\lib\\site-packages\\sklearn\\ensemble\\forest.py:246: FutureWarning: The default value of n_estimators will change from 10 in version 0.20 to 100 in 0.22.\n",
      "  \"10 in version 0.20 to 100 in 0.22.\", FutureWarning)\n"
     ]
    },
    {
     "name": "stdout",
     "output_type": "stream",
     "text": [
      "max_features  :0.4\n",
      "MSE score on train: 355.2571113683278\n",
      "MSE score on test: 360.3206392430901\n"
     ]
    },
    {
     "name": "stderr",
     "output_type": "stream",
     "text": [
      "C:\\ProgramData\\Anaconda3\\lib\\site-packages\\sklearn\\ensemble\\forest.py:246: FutureWarning: The default value of n_estimators will change from 10 in version 0.20 to 100 in 0.22.\n",
      "  \"10 in version 0.20 to 100 in 0.22.\", FutureWarning)\n"
     ]
    },
    {
     "name": "stdout",
     "output_type": "stream",
     "text": [
      "max_features  :0.5\n",
      "MSE score on train: 352.6869964881469\n",
      "MSE score on test: 358.21775863689896\n"
     ]
    },
    {
     "name": "stderr",
     "output_type": "stream",
     "text": [
      "C:\\ProgramData\\Anaconda3\\lib\\site-packages\\sklearn\\ensemble\\forest.py:246: FutureWarning: The default value of n_estimators will change from 10 in version 0.20 to 100 in 0.22.\n",
      "  \"10 in version 0.20 to 100 in 0.22.\", FutureWarning)\n"
     ]
    },
    {
     "name": "stdout",
     "output_type": "stream",
     "text": [
      "max_features  :0.6\n",
      "MSE score on train: 352.1756970156675\n",
      "MSE score on test: 358.09215203490567\n"
     ]
    },
    {
     "name": "stderr",
     "output_type": "stream",
     "text": [
      "C:\\ProgramData\\Anaconda3\\lib\\site-packages\\sklearn\\ensemble\\forest.py:246: FutureWarning: The default value of n_estimators will change from 10 in version 0.20 to 100 in 0.22.\n",
      "  \"10 in version 0.20 to 100 in 0.22.\", FutureWarning)\n"
     ]
    },
    {
     "name": "stdout",
     "output_type": "stream",
     "text": [
      "max_features  :0.7\n",
      "MSE score on train: 351.78186021293595\n",
      "MSE score on test: 357.5548326544036\n"
     ]
    },
    {
     "name": "stderr",
     "output_type": "stream",
     "text": [
      "C:\\ProgramData\\Anaconda3\\lib\\site-packages\\sklearn\\ensemble\\forest.py:246: FutureWarning: The default value of n_estimators will change from 10 in version 0.20 to 100 in 0.22.\n",
      "  \"10 in version 0.20 to 100 in 0.22.\", FutureWarning)\n"
     ]
    },
    {
     "name": "stdout",
     "output_type": "stream",
     "text": [
      "max_features  :0.8\n",
      "MSE score on train: 352.04767212480374\n",
      "MSE score on test: 358.0342461063492\n"
     ]
    },
    {
     "name": "stderr",
     "output_type": "stream",
     "text": [
      "C:\\ProgramData\\Anaconda3\\lib\\site-packages\\sklearn\\ensemble\\forest.py:246: FutureWarning: The default value of n_estimators will change from 10 in version 0.20 to 100 in 0.22.\n",
      "  \"10 in version 0.20 to 100 in 0.22.\", FutureWarning)\n"
     ]
    },
    {
     "name": "stdout",
     "output_type": "stream",
     "text": [
      "max_features  :0.9\n",
      "MSE score on train: 352.08715911920166\n",
      "MSE score on test: 358.15660189826207\n"
     ]
    }
   ],
   "source": [
    "max_features = ['auto', 'sqrt','log2', None, .1, .2, .3, .4, .5, .6, .7, .8, .9]\n",
    "mse_err_tr=[]\n",
    "mse_err_ts=[]\n",
    "for mf in max_features:\n",
    "    rf=RandomForestRegressor(max_depth=12,min_samples_leaf=120,max_features=mf,random_state=44,n_jobs=-1)\n",
    "    rf.fit(xtrain,ytrain)\n",
    "    print(\"max_features  :\"+str(mf))\n",
    "    \n",
    "    #on train data\n",
    "    rf_predict=rf.predict(xtrain)\n",
    "    Err=mean_squared_error(ytrain,rf_predict)\n",
    "    print(\"MSE score on train: \"+str(Err))\n",
    "    mse_err_tr.append(Err)\n",
    "    \n",
    "    #on test data\n",
    "    rf_predict=rf.predict(xtest)\n",
    "    Err=mean_squared_error(ytest,rf_predict)\n",
    "    print(\"MSE score on test: \"+str(Err))\n",
    "    mse_err_ts.append(Err)\n"
   ]
  },
  {
   "cell_type": "code",
   "execution_count": 38,
   "metadata": {},
   "outputs": [
    {
     "data": {
      "text/plain": [
       "Text(0.5, 1.0, 'Maximum Features Allowed Accuracies')"
      ]
     },
     "execution_count": 38,
     "metadata": {},
     "output_type": "execute_result"
    },
    {
     "data": {
      "image/png": "[encoded data removed]",
      "text/plain": [
       "<Figure size 432x288 with 1 Axes>"
      ]
     },
     "metadata": {
      "needs_background": "light"
     },
     "output_type": "display_data"
    }
   ],
   "source": [
    "max_features_result = pd.Series(mse_err_ts, index=max_features)\n",
    "\n",
    "ax = max_features_result.plot.bar(ylim=(354, 385))\n",
    "ax.set_xlabel('Maximum Features')\n",
    "ax.set_ylabel('MSE')\n",
    "ax.set_title('Maximum Features Allowed Accuracies')"
   ]
  },
  {
   "cell_type": "markdown",
   "metadata": {},
   "source": [
    "0.7 prvides the best score."
   ]
  },
  {
   "cell_type": "code",
   "execution_count": 39,
   "metadata": {},
   "outputs": [
    {
     "name": "stdout",
     "output_type": "stream",
     "text": [
      "max_features  :5\n",
      "MSE score on train: 350.13670222920615\n",
      "MSE score on test: 358.94544833123473\n",
      "max_features  :10\n",
      "MSE score on train: 349.3384199985342\n",
      "MSE score on test: 357.9467701548522\n",
      "max_features  :15\n",
      "MSE score on train: 349.1298437687577\n",
      "MSE score on test: 357.6780304517239\n",
      "max_features  :25\n",
      "MSE score on train: 348.70614472779494\n",
      "MSE score on test: 357.34970694741355\n",
      "max_features  :35\n",
      "MSE score on train: 348.60171949882425\n",
      "MSE score on test: 357.24642288231894\n",
      "max_features  :50\n",
      "MSE score on train: 348.50888409686564\n",
      "MSE score on test: 357.16334734031176\n",
      "max_features  :75\n",
      "MSE score on train: 348.33222798705964\n",
      "MSE score on test: 357.04717149143073\n"
     ]
    },
    {
     "data": {
      "image/png": "[encoded data removed]",
      "text/plain": [
       "<Figure size 432x288 with 1 Axes>"
      ]
     },
     "metadata": {
      "needs_background": "light"
     },
     "output_type": "display_data"
    },
    {
     "name": "stdout",
     "output_type": "stream",
     "text": [
      "Minimun MSE for n_estimators is:  75\n"
     ]
    }
   ],
   "source": [
    "n_estimators = [5, 10, 15, 25, 35, 50, 75]\n",
    "mse_err_tr=[]\n",
    "mse_err_ts=[]\n",
    "for ne in n_estimators:\n",
    "    rf=RandomForestRegressor(max_depth=12,min_samples_leaf=50,n_estimators=ne,max_features=0.7,random_state=44,n_jobs=-1)\n",
    "    rf.fit(xtrain,ytrain)\n",
    "    print(\"max_features  :\"+str(ne))\n",
    "    \n",
    "    #on train data\n",
    "    rf_predict=rf.predict(xtrain)\n",
    "    Err=mean_squared_error(ytrain,rf_predict)\n",
    "    print(\"MSE score on train: \"+str(Err))\n",
    "    mse_err_tr.append(Err)\n",
    "    \n",
    "    #on test data\n",
    "    rf_predict=rf.predict(xtest)\n",
    "    Err=mean_squared_error(ytest,rf_predict)\n",
    "    print(\"MSE score on test: \"+str(Err))\n",
    "    mse_err_ts.append(Err)\n",
    "    \n",
    "plot_hyper(n_estimators,mse_err_tr,mse_err_ts,\"n_estimators\")"
   ]
  },
  {
   "cell_type": "markdown",
   "metadata": {},
   "source": [
    "#### Observation:\n",
    ">As the estimator value increases the accuracy also increases,but the rate of increase decreases.Here we have find a value which balances between time and rate increase. "
   ]
  },
  {
   "cell_type": "markdown",
   "metadata": {},
   "source": [
    "#### NOTES: \n",
    ">1) Even if we give a large value for nestimator,it is not feasiable to use random forest to get a better score than linear model with regards to the time.<br>\n",
    "\n",
    ">2) So far,the score did't improve as expected,Anyway lets fine tune the random forest model for the sake of completeness.<br>\n",
    "\n",
    ">3) I have set the n_estimator value for grid search as 5 for the sake of fast proccessing and for fine tuning other parameters."
   ]
  },
  {
   "cell_type": "code",
   "execution_count": 40,
   "metadata": {},
   "outputs": [],
   "source": [
    "from sklearn.model_selection import GridSearchCV\n",
    "\n",
    "rf = RandomForestRegressor()\n",
    "parameters = [{\"max_depth\":[11,12,13],\"min_samples_leaf\":[110,120,130],\"max_features\":[0.625,0.65,0.675],\"n_estimators\":[5]}]\n",
    "Grid = GridSearchCV(rf, parameters, cv = 3)\n",
    "Grid.fit(xtrain, ytrain)\n",
    "bestrf = Grid.best_estimator_"
   ]
  },
  {
   "cell_type": "code",
   "execution_count": 41,
   "metadata": {},
   "outputs": [
    {
     "data": {
      "text/plain": [
       "RandomForestRegressor(bootstrap=True, criterion='mse', max_depth=13,\n",
       "           max_features=0.675, max_leaf_nodes=None,\n",
       "           min_impurity_decrease=0.0, min_impurity_split=None,\n",
       "           min_samples_leaf=110, min_samples_split=2,\n",
       "           min_weight_fraction_leaf=0.0, n_estimators=5, n_jobs=None,\n",
       "           oob_score=False, random_state=None, verbose=0, warm_start=False)"
      ]
     },
     "execution_count": 41,
     "metadata": {},
     "output_type": "execute_result"
    }
   ],
   "source": [
    "bestrf"
   ]
  },
  {
   "cell_type": "code",
   "execution_count": 42,
   "metadata": {},
   "outputs": [
    {
     "name": "stdout",
     "output_type": "stream",
     "text": [
      "Random Forest tuned MSE:  358.5380662034462\n"
     ]
    }
   ],
   "source": [
    "pred=Grid.predict(xtest)\n",
    "err = mean_squared_error(pred, ytest)\n",
    "\n",
    "print(\"Random Forest tuned MSE: \",err)"
   ]
  },
  {
   "cell_type": "code",
   "execution_count": 43,
   "metadata": {},
   "outputs": [
    {
     "name": "stdout",
     "output_type": "stream",
     "text": [
      "yearsExperience           0.043022\n",
      "milesFromMetropolis       0.013818\n",
      "cat_feat_mean             0.557398\n",
      "exp_dist_mean             0.239262\n",
      "dist_job_mean             0.105282\n",
      "jobType_CEO               0.000270\n",
      "jobType_CFO               0.000099\n",
      "jobType_CTO               0.000090\n",
      "jobType_JANITOR           0.024801\n",
      "jobType_JUNIOR            0.000457\n",
      "jobType_MANAGER           0.000092\n",
      "jobType_SENIOR            0.000067\n",
      "jobType_VICE_PRESIDENT    0.000136\n",
      "degree_BACHELORS          0.000123\n",
      "degree_DOCTORAL           0.000128\n",
      "degree_HIGH_SCHOOL        0.000103\n",
      "degree_MASTERS            0.000126\n",
      "degree_NONE               0.000133\n",
      "major_BIOLOGY             0.000056\n",
      "major_BUSINESS            0.000103\n",
      "major_CHEMISTRY           0.000052\n",
      "major_COMPSCI             0.000056\n",
      "major_ENGINEERING         0.000138\n",
      "major_LITERATURE          0.000053\n",
      "major_MATH                0.000065\n",
      "major_NONE                0.001377\n",
      "major_PHYSICS             0.000053\n",
      "industry_AUTO             0.000191\n",
      "industry_EDUCATION        0.000744\n",
      "industry_FINANCE          0.000306\n",
      "industry_HEALTH           0.000255\n",
      "industry_OIL              0.000288\n",
      "industry_SERVICE          0.000245\n",
      "industry_WEB              0.000351\n",
      "Attended_College_No       0.005088\n",
      "Attended_College_Yes      0.005169\n",
      "dtype: float64\n"
     ]
    },
    {
     "data": {
      "text/plain": [
       "<matplotlib.axes._subplots.AxesSubplot at 0x25f9ea346d8>"
      ]
     },
     "execution_count": 43,
     "metadata": {},
     "output_type": "execute_result"
    },
    {
     "data": {
      "image/png": "[encoded data removed]",
      "text/plain": [
       "<Figure size 1080x504 with 1 Axes>"
      ]
     },
     "metadata": {
      "needs_background": "light"
     },
     "output_type": "display_data"
    }
   ],
   "source": [
    "rf = RandomForestRegressor(max_depth=12,\n",
    "           max_features=0.65,min_samples_leaf=25,n_estimators=500, n_jobs=-1,random_state=1)#estimator value decresed for faster computation \n",
    " \n",
    "rf.fit(xtrain,ytrain)\n",
    "\n",
    "feature_importances = pd.Series(rf.feature_importances_, index=xtrain.columns)\n",
    "print(feature_importances)\n",
    "feature_importances.sort_values(inplace=True)\n",
    "feature_importances.plot(kind='barh', figsize=(15,7))"
   ]
  },
  {
   "cell_type": "markdown",
   "metadata": {},
   "source": [
    "#### OBSERVATION:\n",
    ">We can see that our engineered features does most of the prediction.\n",
    "As far as we have seen Linear regression with polynomial tranformation provides the best result **MSE 353**."
   ]
  },
  {
   "cell_type": "markdown",
   "metadata": {},
   "source": [
    "### NOTES:\n",
    ">The values of max_depth and n_estimators are conditional on basis of overfitting and test score accuracy.We have set the best value for max_depth for max. score by trading of overfitting,but still doesn't provide the best results,therefore there is no point in optimizing random forest any further."
   ]
  },
  {
   "cell_type": "markdown",
   "metadata": {},
   "source": []
  },
  {
   "cell_type": "markdown",
   "metadata": {},
   "source": []
  },
  {
   "cell_type": "markdown",
   "metadata": {},
   "source": [
    "## CONCLUSION"
   ]
  },
  {
   "cell_type": "markdown",
   "metadata": {},
   "source": [
    ">  The Linear regression model with ***Polynomial Transformation*** provides the best result of **MSE 353**.<br>\n",
    ">  Random Forest model also provide satisfatory score of **MSE 358.5**."
   ]
  },
  {
   "cell_type": "markdown",
   "metadata": {},
   "source": [
    "#### Findings\n",
    "\n",
    ">- Overall the main predictor feature is \"jobType\".All other feature is heavly dependent on jobType directly or indirectly.We used the dependence of jobType to feature engineer certain features which could provide huge impact in the score. \n",
    "\n",
    ">- \"YearsofExperience\" was seen to a good predictor logically,but turns out it has high dependence of jobType,ie, expencience for that particular role.If we had more information on the overall experience in that particular comapany or field ,I coud boost up the prediction.Here \"YearsofExperience\" could mislead between an amateur CEO of a startup company and a newly posted CEO of a huge company. \n",
    "                                                                                                                               \n",
    ">- Even though \"JobType\" is a good predictor,there is a huge varience in salary for each role.This could have be avoided if we have more information of the company,like how big a company is.Here the \"companyId\" provide almost zero relevance and doesn't provide any pattern.If there was any kind pattern for \"companyId\" it would have provided a huge impact in the score.If could know how big a company is, we could cut the variance in salary each \"jobType\".According to the data we might be treating the CEOs of huge companies like facebook to a startup company's CEO same and predicting the salary.This causes the huge varience in jobType.\n",
    "\n",
    "#### Results\n",
    "\n",
    ">- Here in this model,we squeeze out almost every pattern to predict the salary without much standard deviation in error.I was able to get a ***MSE score of 353 at 76% accuracy.***\n",
    "\n",
    ">- ***Linear regression*** does the job after ***second order polynomial transformation***,where it could capture more patterns using more features.\n",
    "\n",
    ">- Also I was also able to pickup several patterns in determining several feature and further in predicting salary.\n",
    "\n",
    "#### Out of scope for this project\n",
    "\n",
    ">we could use the salary feature and predictions from the model to calculate the errors and thereby classify the outliers.The outliers can be huge company employees,startup company employees,contract based employees etc.And we could also make models specfic for each categories for employee to predict their salaries which could be of less standard deviation of errors from this data."
   ]
  },
  {
   "cell_type": "code",
   "execution_count": null,
   "metadata": {},
   "outputs": [],
   "source": []
  }
 ],
 "metadata": {
  "kernelspec": {
   "display_name": "Python 3",
   "language": "python",
   "name": "python3"
  },
  "language_info": {
   "codemirror_mode": {
    "name": "ipython",
    "version": 3
   },
   "file_extension": ".py",
   "mimetype": "text/x-python",
   "name": "python",
   "nbconvert_exporter": "python",
   "pygments_lexer": "ipython3",
   "version": "3.7.3"
  }
 },
 "nbformat": 4,
 "nbformat_minor": 2
}
